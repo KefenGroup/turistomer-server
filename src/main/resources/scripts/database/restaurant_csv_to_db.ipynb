{
 "cells": [
  {
   "cell_type": "code",
   "execution_count": 120,
   "id": "f09483f4-7d85-4032-b7d6-784a344f9667",
   "metadata": {},
   "outputs": [],
   "source": [
    "import pandas as pd\n",
    "from sqlalchemy import create_engine\n",
    "from sqlalchemy.sql import text\n",
    "import psycopg2\n",
    "import logging"
   ]
  },
  {
   "cell_type": "code",
   "execution_count": 121,
   "id": "9dcb9cdf-857d-4a4c-81d8-e7c44f5e363b",
   "metadata": {},
   "outputs": [],
   "source": [
    "def create_tables(engine, logging):\n",
    "    with engine.connect() as connection:\n",
    "        try:\n",
    "            connection.execute(text(\"\"\"DROP TABLE IF EXISTS Restaurant, Cuisine, RestaurantCuisine CASCADE\"\"\"))\n",
    "            \n",
    "            connection.execute(text(\"\"\"\n",
    "                CREATE TABLE IF NOT EXISTS Restaurant (\n",
    "                    id SERIAL PRIMARY KEY,\n",
    "                    city varchar(255) NOT NULL,\n",
    "                    link varchar(255) NOT NULL,\n",
    "                    name varchar(255) NOT NULL,\n",
    "                    rating float8 DEFAULT -1,\n",
    "                    price_lower float8 DEFAULT -1.0,\n",
    "                    price_higher float8 DEFAULT -1.0\n",
    "                )\n",
    "            \"\"\"))\n",
    "\n",
    "            connection.execute(text(\"\"\"\n",
    "                CREATE TABLE IF NOT EXISTS Cuisine (\n",
    "                    id SERIAL PRIMARY KEY,\n",
    "                    name TEXT NOT NULL\n",
    "                )\n",
    "            \"\"\"))\n",
    "\n",
    "            connection.execute(text(\"\"\"\n",
    "                CREATE TABLE IF NOT EXISTS RestaurantCuisine (\n",
    "                    restaurant_id INTEGER,\n",
    "                    cuisine_id INTEGER,\n",
    "                    PRIMARY KEY (restaurant_id, cuisine_id),\n",
    "                    FOREIGN KEY (restaurant_id) REFERENCES Restaurant(id),\n",
    "                    FOREIGN KEY (cuisine_id) REFERENCES Cuisine(id)\n",
    "                )\n",
    "            \"\"\"))\n",
    "            \n",
    "            connection.commit()\n",
    "            print(\"Table creation successful!\")\n",
    "        except Exception as e:\n",
    "            logging.error(f\"Error during creating tables: {e}\")\n",
    "            print(\"Error during creating tables, see the insert_data.log file\")\n",
    "            connection.rollback()"
   ]
  },
  {
   "cell_type": "code",
   "execution_count": 122,
   "id": "cc73d25f-aeb0-44c7-a810-1d7fa6a7e751",
   "metadata": {},
   "outputs": [],
   "source": [
    "def insert_data(engine, data, logging):\n",
    "    cuisine_id_mapping = {}\n",
    "    \n",
    "    with engine.connect() as connection:\n",
    "        try:\n",
    "            for _, row in data.iterrows():\n",
    "                curr_params = {\"c\":row['City'], \"l\":row['Link'], \"n\":row['Name'], \"r\":row['Rating'], \"pl\":row['Price_Lower'], \"ph\":row['Price_Higher']}\n",
    "\n",
    "                stmt = text(\"\"\"INSERT INTO Restaurant(city, link, name, rating, price_lower, price_higher) VALUES(:c, :l, :n, :r, :pl, :ph) RETURNING id\"\"\")\n",
    "\n",
    "                result = connection.execute(stmt.bindparams(**curr_params))\n",
    "\n",
    "                restaurant_id = result.fetchone()[0]\n",
    "                \n",
    "                cuisines = [c.strip() for c in str(row['Cuisine']).split(',')]\n",
    "                for cuisine in cuisines:\n",
    "                    if cuisine not in cuisine_id_mapping:\n",
    "                        stmt_cuisine = text(\"\"\"INSERT INTO Cuisine (name) VALUES (:cuisine) RETURNING id\"\"\")\n",
    "                        cur_cuisine = {\"cuisine\":cuisine}\n",
    "                        result = connection.execute(stmt_cuisine.bindparams(**cur_cuisine))\n",
    "                        cuisine_id_mapping[cuisine] = result.fetchone()[0]\n",
    "\n",
    "                    cuisine_id = cuisine_id_mapping[cuisine]\n",
    "\n",
    "                    stmt_relation = text(\"\"\"INSERT INTO RestaurantCuisine (restaurant_id, cuisine_id) VALUES (:rid, :cid)\"\"\")\n",
    "                    curr_ids = {\"rid\":restaurant_id, \"cid\":cuisine_id}\n",
    "\n",
    "                    existing_stmt = text(\"\"\"SELECT 1 FROM RestaurantCuisine WHERE restaurant_id = :rid AND cuisine_id = :cid\"\"\")\n",
    "                    existing_record = connection.execute(existing_stmt.bindparams(**curr_ids)).fetchone()\n",
    "\n",
    "                    if not existing_record:\n",
    "                        connection.execute(stmt_relation.bindparams(**curr_ids))\n",
    "                        \n",
    "            connection.commit()\n",
    "            print(\"Data insertion successful!\")\n",
    "            \n",
    "        except Exception as e:\n",
    "            logging.error(f\"Error during data insertion: {e}\")\n",
    "            print(\"Error during data insertion, see the insert_data.log file\")\n",
    "            connection.rollback()\n",
    "\n",
    "        finally:\n",
    "            connection.close()"
   ]
  },
  {
   "cell_type": "code",
   "execution_count": 123,
   "id": "63e25516-cef7-4360-8d00-a7e125b9a477",
   "metadata": {},
   "outputs": [
    {
     "name": "stdout",
     "output_type": "stream",
     "text": [
      "Table creation successful!\n",
      "Data insertion successful!\n"
     ]
    }
   ],
   "source": [
    "csv_file_path = \"<path_to_csv>\"\n",
    "postgresql_url = 'postgresql://<username>:<password>@<host>:<port>/<db_name>'\n",
    "logging.basicConfig(filename='insert_data.log', level=logging.ERROR, format='%(asctime)s - %(levelname)s: %(message)s')\n",
    "    \n",
    "data = pd.read_csv(csv_file_path, encoding='utf-8-sig')\n",
    "\n",
    "engine = create_engine(postgresql_url)\n",
    "\n",
    "create_tables(engine, logging)\n",
    "\n",
    "insert_data(engine, data, logging)"
   ]
  }
 ],
 "metadata": {
  "kernelspec": {
   "display_name": "Python [conda env:bitirme]",
   "language": "python",
   "name": "conda-env-bitirme-py"
  },
  "language_info": {
   "codemirror_mode": {
    "name": "ipython",
    "version": 3
   },
   "file_extension": ".py",
   "mimetype": "text/x-python",
   "name": "python",
   "nbconvert_exporter": "python",
   "pygments_lexer": "ipython3",
   "version": "3.12.1"
  }
 },
 "nbformat": 4,
 "nbformat_minor": 5
}
