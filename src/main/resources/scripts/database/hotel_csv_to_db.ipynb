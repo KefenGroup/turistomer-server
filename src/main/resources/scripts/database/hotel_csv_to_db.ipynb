{
 "cells": [
  {
   "cell_type": "code",
   "execution_count": 26,
   "id": "9112c310-eec4-4ead-99fa-8b20790e7b95",
   "metadata": {
    "tags": []
   },
   "outputs": [],
   "source": [
    "import pandas as pd\n",
    "from sqlalchemy import create_engine\n",
    "from sqlalchemy.sql import text\n",
    "import psycopg2\n",
    "import logging"
   ]
  },
  {
   "cell_type": "code",
   "execution_count": 27,
   "id": "8ef180c5-e577-4957-8e52-c0ddcb59aed0",
   "metadata": {
    "tags": []
   },
   "outputs": [],
   "source": [
    "def create_tables(engine, logging):\n",
    "    with engine.connect() as connection:\n",
    "        try:\n",
    "            connection.execute(text(\"\"\"DROP TABLE IF EXISTS Hotel, Amenity, Hotel_Amenity CASCADE\"\"\"))\n",
    "            \n",
    "            connection.execute(text(\"\"\"\n",
    "                CREATE TABLE IF NOT EXISTS Hotel (\n",
    "                    id SERIAL PRIMARY KEY,\n",
    "                    city varchar(255) NOT NULL,\n",
    "                    link varchar(255) NOT NULL,\n",
    "                    name varchar(255) NOT NULL,\n",
    "                    rating float8 DEFAULT -1,\n",
    "                    price float8 DEFAULT -1.0,\n",
    "                    longitude float8,\n",
    "                    latitude float8\n",
    "                )\n",
    "            \"\"\"))\n",
    "\n",
    "            connection.execute(text(\"\"\"\n",
    "                CREATE TABLE IF NOT EXISTS Amenity (\n",
    "                    id SERIAL PRIMARY KEY,\n",
    "                    name TEXT NOT NULL\n",
    "                )\n",
    "            \"\"\"))\n",
    "\n",
    "            connection.execute(text(\"\"\"\n",
    "                CREATE TABLE IF NOT EXISTS Hotel_Amenity (\n",
    "                    hotel_id INTEGER,\n",
    "                    amenity_id INTEGER,\n",
    "                    PRIMARY KEY (hotel_id, amenity_id),\n",
    "                    FOREIGN KEY (hotel_id) REFERENCES Hotel(id),\n",
    "                    FOREIGN KEY (amenity_id) REFERENCES Amenity(id)\n",
    "                )\n",
    "            \"\"\"))\n",
    "            \n",
    "            connection.commit()\n",
    "            print(\"Table creation successful!\")\n",
    "        except Exception as e:\n",
    "            logging.error(f\"Error during creating tables: {e}\")\n",
    "            print(\"Error during creating tables, see the insert_data.log file\")\n",
    "            connection.rollback()"
   ]
  },
  {
   "cell_type": "code",
   "execution_count": 28,
   "id": "b2ccc05d-929a-401e-926b-6612c665dcfe",
   "metadata": {
    "tags": []
   },
   "outputs": [],
   "source": [
    "def insert_data(engine, data, logging):\n",
    "    amenity_id_mapping = {}\n",
    "    \n",
    "    with engine.connect() as connection:\n",
    "        try:\n",
    "            for _, row in data.iterrows():\n",
    "                curr_params = {\"c\":row['City'], \"l\":row['Link'], \"n\":row['Name'], \"r\":row['Rating'], \"p\":row['Price'], \"lon\":row['Longitude'], \"lat\":row['Latitude']}\n",
    "\n",
    "                stmt = text(\"\"\"INSERT INTO Hotel(city, link, name, rating, price, longitude, latitude) VALUES(:c, :l, :n, :r, :p, :lon, :lat) RETURNING id\"\"\")\n",
    "\n",
    "                result = connection.execute(stmt.bindparams(**curr_params))\n",
    "\n",
    "                hotel_id = result.fetchone()[0]\n",
    "                \n",
    "                amenities = [c.strip() for c in str(row['Amenity']).split(',')]\n",
    "                for amenity in amenities:\n",
    "                    if amenity not in amenity_id_mapping:\n",
    "                        stmt_amenity = text(\"\"\"INSERT INTO Amenity (name) VALUES (:amenity) RETURNING id\"\"\")\n",
    "                        cur_amenity = {\"amenity\":amenity}\n",
    "                        result = connection.execute(stmt_amenity.bindparams(**cur_amenity))\n",
    "                        amenity_id_mapping[amenity] = result.fetchone()[0]\n",
    "\n",
    "                    amenity_id = amenity_id_mapping[amenity]\n",
    "\n",
    "                    stmt_relation = text(\"\"\"INSERT INTO Hotel_Amenity (hotel_id, amenity_id) VALUES (:hid, :aid)\"\"\")\n",
    "                    curr_ids = {\"hid\":hotel_id, \"aid\":amenity_id}\n",
    "\n",
    "                    existing_stmt = text(\"\"\"SELECT 1 FROM Hotel_Amenity WHERE hotel_id = :hid AND amenity_id = :aid\"\"\")\n",
    "                    existing_record = connection.execute(existing_stmt.bindparams(**curr_ids)).fetchone()\n",
    "\n",
    "                    if not existing_record:\n",
    "                        connection.execute(stmt_relation.bindparams(**curr_ids))\n",
    "                        \n",
    "            connection.commit()\n",
    "            print(\"Data insertion successful!\")\n",
    "            \n",
    "        except Exception as e:\n",
    "            logging.error(f\"Error during data insertion: {e}\")\n",
    "            print(\"Error during data insertion, see the insert_data.log file\")\n",
    "            connection.rollback()\n",
    "\n",
    "        finally:\n",
    "            connection.close()"
   ]
  },
  {
   "cell_type": "code",
   "execution_count": 30,
   "id": "2a8ac511-e709-46d7-83ea-eb2a7c0bc3a7",
   "metadata": {
    "tags": []
   },
   "outputs": [
    {
     "name": "stderr",
     "output_type": "stream",
     "text": [
      "<>:1: SyntaxWarning: invalid escape sequence '\\T'\n",
      "<>:1: SyntaxWarning: invalid escape sequence '\\T'\n",
      "C:\\Users\\oguzk\\AppData\\Local\\Temp\\ipykernel_2668\\1034417925.py:1: SyntaxWarning: invalid escape sequence '\\T'\n",
      "  csv_file_path = \"D:\\TOBB\\Bil496\\scripts\\hotels_canakkale_v1_for_db.csv\"\n"
     ]
    },
    {
     "name": "stdout",
     "output_type": "stream",
     "text": [
      "Table creation successful!\n",
      "Data insertion successful!\n"
     ]
    }
   ],
   "source": [
    "csv_file_path = \"<csv_path>\"\n",
    "postgresql_url = 'postgresql://<username>:<password>@<host>:<port>/<db_name>'\n",
    "logging.basicConfig(filename='insert_data.log', level=logging.ERROR, format='%(asctime)s - %(levelname)s: %(message)s')\n",
    "    \n",
    "data = pd.read_csv(csv_file_path, encoding='utf-8-sig')\n",
    "\n",
    "engine = create_engine(postgresql_url)\n",
    "\n",
    "create_tables(engine, logging)\n",
    "\n",
    "insert_data(engine, data, logging)"
   ]
  },
  {
   "cell_type": "code",
   "execution_count": null,
   "id": "ed251766-e379-4858-9f1d-b8388bb0e787",
   "metadata": {},
   "outputs": [],
   "source": []
  }
 ],
 "metadata": {
  "kernelspec": {
   "display_name": "Python [conda env:bitirme]",
   "language": "python",
   "name": "conda-env-bitirme-py"
  },
  "language_info": {
   "codemirror_mode": {
    "name": "ipython",
    "version": 3
   },
   "file_extension": ".py",
   "mimetype": "text/x-python",
   "name": "python",
   "nbconvert_exporter": "python",
   "pygments_lexer": "ipython3",
   "version": "3.12.1"
  }
 },
 "nbformat": 4,
 "nbformat_minor": 5
}
